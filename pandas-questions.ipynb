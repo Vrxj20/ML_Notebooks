{
 "cells": [
  {
   "cell_type": "markdown",
   "id": "95c048db",
   "metadata": {},
   "source": [
    "###Pandas"
   ]
  },
  {
   "cell_type": "code",
   "execution_count": 2,
   "id": "67bdbf14",
   "metadata": {},
   "outputs": [],
   "source": [
    "import pandas as pd\n",
    "import numpy as np"
   ]
  },
  {
   "cell_type": "code",
   "execution_count": null,
   "id": "184c0a5a",
   "metadata": {},
   "outputs": [
    {
     "name": "stdout",
     "output_type": "stream",
     "text": [
      "Array 1: \n",
      "     0   1   2   3\n",
      "0  10  13  14   9\n",
      "1  12   7  10  17\n",
      "2  19   8   1   6\n",
      "3   4   6   4   4\n",
      "4  18  18   1   8\n",
      "5  13  11  14   2\n",
      "\n",
      "Customized array: \n",
      "     A   B   C\n",
      "x  17  11  20\n",
      "Y  41  24  18\n",
      "Z  47  48  11\n",
      "\n",
      "Value at Y X B: \n",
      " 24\n"
     ]
    }
   ],
   "source": [
    "# Assignment 1: DataFrame Creation and Indexing\n",
    "\n",
    "# 1. Create a Pandas DataFrame with 4 columns and 6 rows filled with random integers. Set the index to be the first column.\n",
    "arr = np.random.randint(1,20, size=(6,4))\n",
    "df = pd.DataFrame(arr)\n",
    "print(\"Array 1: \\n\",df)\n",
    "\n",
    "# 2. Create a Pandas DataFrame with columns `'A'`, `'B'`, `'C'` and index `'X'`, `'Y'`, `'Z'`. Fill the DataFrame with random integers and access the element at row `'Y'` and column `'B'`.\n",
    "data = np.random.randint(1,100, size=(3,3))\n",
    "df = pd.DataFrame(data,columns=['A','B','C'],index=['x','Y','Z'])\n",
    "print(\"\\nCustomized array: \\n\",df)\n",
    "value = df.iloc[1,1]\n",
    "print(\"\\nValue at Y X B: \\n\",value)\n"
   ]
  },
  {
   "cell_type": "code",
   "execution_count": 27,
   "metadata": {},
   "outputs": [
    {
     "name": "stdout",
     "output_type": "stream",
     "text": [
      "Original Array: \n",
      "     0   1   2\n",
      "0  10  16  19\n",
      "1  11  13   4\n",
      "2  19   4   9\n",
      "3   3  18   2\n",
      "4  15   4  17\n",
      "\n",
      " Manipulated array: \n",
      "     0   1   2  Product\n",
      "0  10  16  19      160\n",
      "1  11  13   4      143\n",
      "2  19   4   9       76\n",
      "3   3  18   2       54\n",
      "4  15   4  17       60\n",
      "\n",
      "Original Array: \n",
      "     A   B   C\n",
      "P  18   1  19\n",
      "Q  17  10  11\n",
      "R  15   8  14\n",
      "S  14  16  17\n",
      "\n",
      " Updated Array: \n",
      "     A   B   C  Row_Wise  Coloumn_wise\n",
      "P  18   1  19        38            76\n",
      "Q  17  10  11        38            76\n",
      "R  15   8  14        37            74\n",
      "S  14  16  17        47            94\n"
     ]
    }
   ],
   "source": [
    "# Assignment 2: DataFrame Operations\n",
    "\n",
    "# Create a Pandas DataFrame with 3 columns and 5 rows filled with random integers. Add a new column that is the product of the first two columns.\n",
    "data = np.random.randint(1,20, size=(5,3))\n",
    "df = pd.DataFrame(data)\n",
    "print(\"Original Array: \\n\", df)\n",
    "\n",
    "df['Product'] = df[0] * df[1]\n",
    "print(\"\\n Manipulated array: \\n\",df)\n",
    "\n",
    "\n",
    "# Create a Pandas DataFrame with 3 columns and 4 rows filled with random integers. Compute the row-wise and column-wise sum.\n",
    "data1 = np.random.randint(1,20, size=(4,3))\n",
    "df1 = pd.DataFrame(data1,columns=['A','B','C'], index=['P','Q','R','S'])\n",
    "print(\"\\nOriginal Array: \\n\", df1)\n",
    "\n",
    "df1['Row_Wise'] = df1.sum(axis=1)\n",
    "df1['Coloumn_wise'] = df1.sum(axis=1)\n",
    "print(\"\\n Updated Array: \\n\",df1)"
   ]
  },
  {
   "cell_type": "code",
   "execution_count": null,
   "id": "62e92971",
   "metadata": {},
   "outputs": [
    {
     "name": "stdout",
     "output_type": "stream",
     "text": [
      "\n",
      " Original array: \n",
      "\n",
      "\n",
      "Nan: \n",
      "       0     1     2   3\n",
      "0  15.0   NaN   6.0   3\n",
      "1  12.0   4.0  16.0  17\n",
      "2   NaN   1.0   4.0   3\n",
      "3   NaN  18.0   NaN   4\n",
      "4   7.0  12.0  12.0   2\n",
      "5  10.0  18.0   NaN  15\n",
      "\n",
      "Modified Array: \n",
      "       0     1     2   3\n",
      "1  12.0   4.0  16.0  17\n",
      "4   7.0  12.0  12.0   2\n"
     ]
    }
   ],
   "source": [
    "#Assignment 3: Data Cleaning\n",
    "\n",
    "# 1. Create a Pandas DataFrame with 3 columns and 5 rows filled with random integers. Introduce some NaN values. Fill the NaN values with the mean of the respective columns.\n",
    "data = np.random.randint(1,20, size=(5,3))\n",
    "df = pd.DataFrame(data)\n",
    "print(\"\\n Original array:  \\n\",df)\n",
    "df[df > 8] = np.nan\n",
    "print(\"\\n Array with NaN values: \\n\",df)\n",
    "df = df.fillna(df.mean())\n",
    "print(\"\\n NaN values replaced with mean of numbers: \\n\",df)\n",
    "\n",
    "\n",
    "\n",
    "\n",
    "# 2. Create a Pandas DataFrame with 4 columns and 6 rows filled with random integers. Introduce some NaN values. Drop the rows with any NaN values.\n",
    "data1 = np.random.randint(1,20, size=(6,4))\n",
    "df1 = pd.DataFrame(data1)\n",
    "print(\"\\n Original array: \\n\")\n",
    "df1[df1 > 18] = np.nan\n",
    "print(\"\\nNan: \\n\",df1)\n",
    "df1 = df1.dropna()\n",
    "print(\"\\nModified Array: \\n\",df1)"
   ]
  },
  {
   "cell_type": "code",
   "execution_count": null,
   "metadata": {},
   "outputs": [
    {
     "name": "stdout",
     "output_type": "stream",
     "text": [
      "\n",
      "Original Dataframe: \n",
      "   Category  Value\n",
      "0        A     15\n",
      "1        B     20\n",
      "2        C      6\n",
      "\n",
      "\n",
      "           sum  mean\n",
      "Category           \n",
      "A          15  15.0\n",
      "B          20  20.0\n",
      "C           6   6.0\n",
      "\n",
      "Dataframe1: \n",
      "      Product    Category  Sales\n",
      "0   Cleanser   Refresher  16000\n",
      "1      Serum   Treatment  30000\n",
      "2  Sunscreen  Protection  56000\n",
      "\n",
      "Category wise product sales: \n",
      " Category\n",
      "Protection    56000\n",
      "Refresher     16000\n",
      "Treatment     30000\n",
      "Name: Sales, dtype: int64\n"
     ]
    }
   ],
   "source": [
    "# Assignment 4: Data Aggregation\n",
    "\n",
    "# 1. Create a Pandas DataFrame with 2 columns: 'Category' and 'Value'. Fill the 'Category' column with random categories ('A', 'B', 'C') and the 'Value' column with random integers. Group the DataFrame by 'Category' and compute the sum and mean of 'Value' for each category.\n",
    "data ={\n",
    "    'Category':['A','B','C'],\n",
    "    'Value':[15,20,6]\n",
    "}\n",
    "df = pd.DataFrame(data)\n",
    "print(\"\\nOriginal Dataframe: \\n\",df)\n",
    "result  = df.groupby('Category')['Value'].agg(['sum','mean'])\n",
    "print(\"\\n\\n\",result)\n",
    "\n",
    "# 2. Create a Pandas DataFrame with 3 columns: 'Product', 'Category', and 'Sales'. Fill the DataFrame with random data. Group the DataFrame by 'Category' and compute the total sales for each category\n",
    "\n",
    "data1 = {\n",
    "    'Product':['Cleanser','Serum','Sunscreen'],\n",
    "    'Category':['Refresher','Treatment','Protection'],\n",
    "    'Sales':[16000,30000,56000]\n",
    "}\n",
    "df1 = pd.DataFrame(data1)\n",
    "print(\"\\nDataframe1: \\n\",df1)\n",
    "total_sales = df1.groupby('Category')['Sales'].sum()\n",
    "print(\"\\nCategory wise product sales: \\n\",total_sales)"
   ]
  },
  {
   "cell_type": "code",
   "execution_count": 14,
   "id": "b3643cf1",
   "metadata": {},
   "outputs": [
    {
     "name": "stdout",
     "output_type": "stream",
     "text": [
      "Dataframe 1 : \n",
      "       Name  Roll_No\n",
      "1   Laliyo        1\n",
      "2    Munna        2\n",
      "3  Singham        3\n",
      "\n",
      "Dataframe 2: \n",
      "       Name           Hobby\n",
      "1   Laliyo        Football\n",
      "2    Munna  Rifle Shooting\n",
      "3  Singham         Running\n"
     ]
    },
    {
     "ename": "TypeError",
     "evalue": "merge() got an unexpected keyword argument 'index'",
     "output_type": "error",
     "traceback": [
      "\u001b[31m---------------------------------------------------------------------------\u001b[39m",
      "\u001b[31mTypeError\u001b[39m                                 Traceback (most recent call last)",
      "\u001b[36mCell\u001b[39m\u001b[36m \u001b[39m\u001b[32mIn[14]\u001b[39m\u001b[32m, line 18\u001b[39m\n\u001b[32m     15\u001b[39m \u001b[38;5;28mprint\u001b[39m(\u001b[33m\"\u001b[39m\u001b[33mDataframe 1 : \u001b[39m\u001b[38;5;130;01m\\n\u001b[39;00m\u001b[33m\"\u001b[39m,df1)\n\u001b[32m     16\u001b[39m \u001b[38;5;28mprint\u001b[39m(\u001b[33m\"\u001b[39m\u001b[38;5;130;01m\\n\u001b[39;00m\u001b[33mDataframe 2: \u001b[39m\u001b[38;5;130;01m\\n\u001b[39;00m\u001b[33m\"\u001b[39m,df2)\n\u001b[32m---> \u001b[39m\u001b[32m18\u001b[39m merged_dataframe  = \u001b[43mpd\u001b[49m\u001b[43m.\u001b[49m\u001b[43mmerge\u001b[49m\u001b[43m(\u001b[49m\u001b[43mdf1\u001b[49m\u001b[43m,\u001b[49m\u001b[43mdf2\u001b[49m\u001b[43m,\u001b[49m\u001b[43mon\u001b[49m\u001b[43m=\u001b[49m\u001b[33;43m\"\u001b[39;49m\u001b[33;43mName\u001b[39;49m\u001b[33;43m\"\u001b[39;49m\u001b[43m,\u001b[49m\u001b[43mindex\u001b[49m\u001b[43m=\u001b[49m\u001b[43mindex\u001b[49m\u001b[43m)\u001b[49m\n\u001b[32m     19\u001b[39m merged_dataframe.index = [\u001b[32m1\u001b[39m,\u001b[32m2\u001b[39m,\u001b[32m3\u001b[39m]\n\u001b[32m     20\u001b[39m \u001b[38;5;28mprint\u001b[39m(\u001b[33m\"\u001b[39m\u001b[38;5;130;01m\\n\u001b[39;00m\u001b[33mMerged Data frame using \u001b[39m\u001b[33m'\u001b[39m\u001b[33mName\u001b[39m\u001b[33m'\u001b[39m\u001b[33m Colomn: \u001b[39m\u001b[38;5;130;01m\\n\u001b[39;00m\u001b[33m\"\u001b[39m,merged_dataframe)\n",
      "\u001b[31mTypeError\u001b[39m: merge() got an unexpected keyword argument 'index'"
     ]
    }
   ],
   "source": [
    "# Assignment 5: Merging DataFrames\n",
    "\n",
    "# 1. Create two Pandas DataFrames with a common column. Merge the DataFrames using the common column\n",
    "data1 = {\n",
    "    'Name':['Laliyo','Munna','Singham'],\n",
    "    'Roll_No':[1,2,3]\n",
    "}\n",
    "data2 = {\n",
    "    'Name':['Laliyo','Munna','Singham'],\n",
    "    'Hobby':['Football',\"Rifle Shooting\",\"Running\"]\n",
    "}\n",
    "index = [1,2,3]\n",
    "df1 = pd.DataFrame(data1,index=index)\n",
    "df2 = pd.DataFrame(data2,index=index)\n",
    "print(\"Dataframe 1 : \\n\",df1)\n",
    "print(\"\\nDataframe 2: \\n\",df2)\n",
    "\n",
    "merged_dataframe  = pd.merge(df1,df2,on=\"Name\",index=index)\n",
    "merged_dataframe.index = [1,2,3]\n",
    "print(\"\\nMerged Data frame using 'Name' Colomn: \\n\",merged_dataframe)\n",
    "\n",
    "\n",
    "# 2. Create two Pandas DataFrames with different columns. Concatenate the DataFrames along the rows and along the columns."
   ]
  },
  {
   "cell_type": "code",
   "execution_count": null,
   "id": "05da014f",
   "metadata": {},
   "outputs": [],
   "source": []
  }
 ],
 "metadata": {
  "kernelspec": {
   "display_name": "base",
   "language": "python",
   "name": "python3"
  },
  "language_info": {
   "codemirror_mode": {
    "name": "ipython",
    "version": 3
   },
   "file_extension": ".py",
   "mimetype": "text/x-python",
   "name": "python",
   "nbconvert_exporter": "python",
   "pygments_lexer": "ipython3",
   "version": "3.13.5"
  }
 },
 "nbformat": 4,
 "nbformat_minor": 5
}
