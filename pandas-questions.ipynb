{
 "cells": [
  {
   "cell_type": "markdown",
   "id": "95c048db",
   "metadata": {},
   "source": [
    "###Pandas"
   ]
  },
  {
   "cell_type": "code",
   "execution_count": 1,
   "id": "67bdbf14",
   "metadata": {},
   "outputs": [],
   "source": [
    "import pandas as pd\n",
    "import numpy as np"
   ]
  },
  {
   "cell_type": "code",
   "execution_count": null,
   "id": "184c0a5a",
   "metadata": {},
   "outputs": [
    {
     "name": "stdout",
     "output_type": "stream",
     "text": [
      "Array 1: \n",
      "     0   1   2   3\n",
      "0  10  13  14   9\n",
      "1  12   7  10  17\n",
      "2  19   8   1   6\n",
      "3   4   6   4   4\n",
      "4  18  18   1   8\n",
      "5  13  11  14   2\n",
      "\n",
      "Customized array: \n",
      "     A   B   C\n",
      "x  17  11  20\n",
      "Y  41  24  18\n",
      "Z  47  48  11\n",
      "\n",
      "Value at Y X B: \n",
      " 24\n"
     ]
    }
   ],
   "source": [
    "# Assignment 1: DataFrame Creation and Indexing\n",
    "\n",
    "# 1. Create a Pandas DataFrame with 4 columns and 6 rows filled with random integers. Set the index to be the first column.\n",
    "arr = np.random.randint(1,20, size=(6,4))\n",
    "df = pd.DataFrame(arr)\n",
    "print(\"Array 1: \\n\",df)\n",
    "\n",
    "# 2. Create a Pandas DataFrame with columns `'A'`, `'B'`, `'C'` and index `'X'`, `'Y'`, `'Z'`. Fill the DataFrame with random integers and access the element at row `'Y'` and column `'B'`.\n",
    "data = np.random.randint(1,100, size=(3,3))\n",
    "df = pd.DataFrame(data,columns=['A','B','C'],index=['x','Y','Z'])\n",
    "print(\"\\nCustomized array: \\n\",df)\n",
    "value = df.iloc[1,1]\n",
    "print(\"\\nValue at Y X B: \\n\",value)\n"
   ]
  },
  {
   "cell_type": "code",
   "execution_count": 27,
   "metadata": {},
   "outputs": [
    {
     "name": "stdout",
     "output_type": "stream",
     "text": [
      "Original Array: \n",
      "     0   1   2\n",
      "0  10  16  19\n",
      "1  11  13   4\n",
      "2  19   4   9\n",
      "3   3  18   2\n",
      "4  15   4  17\n",
      "\n",
      " Manipulated array: \n",
      "     0   1   2  Product\n",
      "0  10  16  19      160\n",
      "1  11  13   4      143\n",
      "2  19   4   9       76\n",
      "3   3  18   2       54\n",
      "4  15   4  17       60\n",
      "\n",
      "Original Array: \n",
      "     A   B   C\n",
      "P  18   1  19\n",
      "Q  17  10  11\n",
      "R  15   8  14\n",
      "S  14  16  17\n",
      "\n",
      " Updated Array: \n",
      "     A   B   C  Row_Wise  Coloumn_wise\n",
      "P  18   1  19        38            76\n",
      "Q  17  10  11        38            76\n",
      "R  15   8  14        37            74\n",
      "S  14  16  17        47            94\n"
     ]
    }
   ],
   "source": [
    "# Assignment 2: DataFrame Operations\n",
    "\n",
    "# Create a Pandas DataFrame with 3 columns and 5 rows filled with random integers. Add a new column that is the product of the first two columns.\n",
    "data = np.random.randint(1,20, size=(5,3))\n",
    "df = pd.DataFrame(data)\n",
    "print(\"Original Array: \\n\", df)\n",
    "\n",
    "df['Product'] = df[0] * df[1]\n",
    "print(\"\\n Manipulated array: \\n\",df)\n",
    "\n",
    "\n",
    "# Create a Pandas DataFrame with 3 columns and 4 rows filled with random integers. Compute the row-wise and column-wise sum.\n",
    "data1 = np.random.randint(1,20, size=(4,3))\n",
    "df1 = pd.DataFrame(data1,columns=['A','B','C'], index=['P','Q','R','S'])\n",
    "print(\"\\nOriginal Array: \\n\", df1)\n",
    "\n",
    "df1['Row_Wise'] = df1.sum(axis=1)\n",
    "df1['Coloumn_wise'] = df1.sum(axis=1)\n",
    "print(\"\\n Updated Array: \\n\",df1)"
   ]
  },
  {
   "cell_type": "code",
   "execution_count": null,
   "id": "62e92971",
   "metadata": {},
   "outputs": [],
   "source": []
  },
  {
   "cell_type": "code",
   "execution_count": null,
   "metadata": {},
   "outputs": [],
   "source": []
  },
  {
   "cell_type": "code",
   "execution_count": null,
   "id": "b3643cf1",
   "metadata": {},
   "outputs": [],
   "source": []
  },
  {
   "cell_type": "code",
   "execution_count": null,
   "id": "05da014f",
   "metadata": {},
   "outputs": [],
   "source": []
  }
 ],
 "metadata": {
  "kernelspec": {
   "display_name": "base",
   "language": "python",
   "name": "python3"
  },
  "language_info": {
   "codemirror_mode": {
    "name": "ipython",
    "version": 3
   },
   "file_extension": ".py",
   "mimetype": "text/x-python",
   "name": "python",
   "nbconvert_exporter": "python",
   "pygments_lexer": "ipython3",
   "version": "3.13.5"
  }
 },
 "nbformat": 4,
 "nbformat_minor": 5
}
