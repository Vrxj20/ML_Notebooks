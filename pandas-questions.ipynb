{
 "cells": [
  {
   "cell_type": "markdown",
   "id": "95c048db",
   "metadata": {},
   "source": [
    "###Pandas"
   ]
  },
  {
   "cell_type": "code",
   "execution_count": 2,
   "id": "67bdbf14",
   "metadata": {},
   "outputs": [],
   "source": [
    "import pandas as pd\n",
    "import numpy as np"
   ]
  },
  {
   "cell_type": "code",
   "execution_count": null,
   "id": "184c0a5a",
   "metadata": {},
   "outputs": [
    {
     "name": "stdout",
     "output_type": "stream",
     "text": [
      "Array 1: \n",
      "     0   1   2   3\n",
      "0  10  13  14   9\n",
      "1  12   7  10  17\n",
      "2  19   8   1   6\n",
      "3   4   6   4   4\n",
      "4  18  18   1   8\n",
      "5  13  11  14   2\n",
      "\n",
      "Customized array: \n",
      "     A   B   C\n",
      "x  17  11  20\n",
      "Y  41  24  18\n",
      "Z  47  48  11\n",
      "\n",
      "Value at Y X B: \n",
      " 24\n"
     ]
    }
   ],
   "source": [
    "# Assignment 1: DataFrame Creation and Indexing\n",
    "\n",
    "# 1. Create a Pandas DataFrame with 4 columns and 6 rows filled with random integers. Set the index to be the first column.\n",
    "arr = np.random.randint(1,20, size=(6,4))\n",
    "df = pd.DataFrame(arr)\n",
    "print(\"Array 1: \\n\",df)\n",
    "\n",
    "# 2. Create a Pandas DataFrame with columns `'A'`, `'B'`, `'C'` and index `'X'`, `'Y'`, `'Z'`. Fill the DataFrame with random integers and access the element at row `'Y'` and column `'B'`.\n",
    "data = np.random.randint(1,100, size=(3,3))\n",
    "df = pd.DataFrame(data,columns=['A','B','C'],index=['x','Y','Z'])\n",
    "print(\"\\nCustomized array: \\n\",df)\n",
    "value = df.iloc[1,1]\n",
    "print(\"\\nValue at Y X B: \\n\",value)\n"
   ]
  },
  {
   "cell_type": "code",
   "execution_count": 27,
   "metadata": {},
   "outputs": [
    {
     "name": "stdout",
     "output_type": "stream",
     "text": [
      "Original Array: \n",
      "     0   1   2\n",
      "0  10  16  19\n",
      "1  11  13   4\n",
      "2  19   4   9\n",
      "3   3  18   2\n",
      "4  15   4  17\n",
      "\n",
      " Manipulated array: \n",
      "     0   1   2  Product\n",
      "0  10  16  19      160\n",
      "1  11  13   4      143\n",
      "2  19   4   9       76\n",
      "3   3  18   2       54\n",
      "4  15   4  17       60\n",
      "\n",
      "Original Array: \n",
      "     A   B   C\n",
      "P  18   1  19\n",
      "Q  17  10  11\n",
      "R  15   8  14\n",
      "S  14  16  17\n",
      "\n",
      " Updated Array: \n",
      "     A   B   C  Row_Wise  Coloumn_wise\n",
      "P  18   1  19        38            76\n",
      "Q  17  10  11        38            76\n",
      "R  15   8  14        37            74\n",
      "S  14  16  17        47            94\n"
     ]
    }
   ],
   "source": [
    "# Assignment 2: DataFrame Operations\n",
    "\n",
    "# Create a Pandas DataFrame with 3 columns and 5 rows filled with random integers. Add a new column that is the product of the first two columns.\n",
    "data = np.random.randint(1,20, size=(5,3))\n",
    "df = pd.DataFrame(data)\n",
    "print(\"Original Array: \\n\", df)\n",
    "\n",
    "df['Product'] = df[0] * df[1]\n",
    "print(\"\\n Manipulated array: \\n\",df)\n",
    "\n",
    "\n",
    "# Create a Pandas DataFrame with 3 columns and 4 rows filled with random integers. Compute the row-wise and column-wise sum.\n",
    "data1 = np.random.randint(1,20, size=(4,3))\n",
    "df1 = pd.DataFrame(data1,columns=['A','B','C'], index=['P','Q','R','S'])\n",
    "print(\"\\nOriginal Array: \\n\", df1)\n",
    "\n",
    "df1['Row_Wise'] = df1.sum(axis=1)\n",
    "df1['Coloumn_wise'] = df1.sum(axis=1)\n",
    "print(\"\\n Updated Array: \\n\",df1)"
   ]
  },
  {
   "cell_type": "code",
   "execution_count": null,
   "id": "62e92971",
   "metadata": {},
   "outputs": [
    {
     "name": "stdout",
     "output_type": "stream",
     "text": [
      "\n",
      " Original array: \n",
      "\n",
      "\n",
      "Nan: \n",
      "       0     1     2   3\n",
      "0  15.0   NaN   6.0   3\n",
      "1  12.0   4.0  16.0  17\n",
      "2   NaN   1.0   4.0   3\n",
      "3   NaN  18.0   NaN   4\n",
      "4   7.0  12.0  12.0   2\n",
      "5  10.0  18.0   NaN  15\n",
      "\n",
      "Modified Array: \n",
      "       0     1     2   3\n",
      "1  12.0   4.0  16.0  17\n",
      "4   7.0  12.0  12.0   2\n"
     ]
    }
   ],
   "source": [
    "#Assignment 3: Data Cleaning\n",
    "\n",
    "# 1. Create a Pandas DataFrame with 3 columns and 5 rows filled with random integers. Introduce some NaN values. Fill the NaN values with the mean of the respective columns.\n",
    "data = np.random.randint(1,20, size=(5,3))\n",
    "df = pd.DataFrame(data)\n",
    "print(\"\\n Original array:  \\n\",df)\n",
    "df[df > 8] = np.nan\n",
    "print(\"\\n Array with NaN values: \\n\",df)\n",
    "df = df.fillna(df.mean())\n",
    "print(\"\\n NaN values replaced with mean of numbers: \\n\",df)\n",
    "\n",
    "\n",
    "\n",
    "\n",
    "# 2. Create a Pandas DataFrame with 4 columns and 6 rows filled with random integers. Introduce some NaN values. Drop the rows with any NaN values.\n",
    "data1 = np.random.randint(1,20, size=(6,4))\n",
    "df1 = pd.DataFrame(data1)\n",
    "print(\"\\n Original array: \\n\")\n",
    "df1[df1 > 18] = np.nan\n",
    "print(\"\\nNan: \\n\",df1)\n",
    "df1 = df1.dropna()\n",
    "print(\"\\nModified Array: \\n\",df1)"
   ]
  },
  {
   "cell_type": "code",
   "execution_count": null,
   "metadata": {},
   "outputs": [
    {
     "name": "stdout",
     "output_type": "stream",
     "text": [
      "\n",
      "Original Dataframe: \n",
      "   Category  Value\n",
      "0        A     15\n",
      "1        B     20\n",
      "2        C      6\n",
      "\n",
      "\n",
      "           sum  mean\n",
      "Category           \n",
      "A          15  15.0\n",
      "B          20  20.0\n",
      "C           6   6.0\n",
      "\n",
      "Dataframe1: \n",
      "      Product    Category  Sales\n",
      "0   Cleanser   Refresher  16000\n",
      "1      Serum   Treatment  30000\n",
      "2  Sunscreen  Protection  56000\n",
      "\n",
      "Category wise product sales: \n",
      " Category\n",
      "Protection    56000\n",
      "Refresher     16000\n",
      "Treatment     30000\n",
      "Name: Sales, dtype: int64\n"
     ]
    }
   ],
   "source": [
    "# Assignment 4: Data Aggregation\n",
    "\n",
    "# 1. Create a Pandas DataFrame with 2 columns: 'Category' and 'Value'. Fill the 'Category' column with random categories ('A', 'B', 'C') and the 'Value' column with random integers. Group the DataFrame by 'Category' and compute the sum and mean of 'Value' for each category.\n",
    "data ={\n",
    "    'Category':['A','B','C'],\n",
    "    'Value':[15,20,6]\n",
    "}\n",
    "df = pd.DataFrame(data)\n",
    "print(\"\\nOriginal Dataframe: \\n\",df)\n",
    "result  = df.groupby('Category')['Value'].agg(['sum','mean'])\n",
    "print(\"\\n\\n\",result)\n",
    "\n",
    "# 2. Create a Pandas DataFrame with 3 columns: 'Product', 'Category', and 'Sales'. Fill the DataFrame with random data. Group the DataFrame by 'Category' and compute the total sales for each category\n",
    "\n",
    "data1 = {\n",
    "    'Product':['Cleanser','Serum','Sunscreen'],\n",
    "    'Category':['Refresher','Treatment','Protection'],\n",
    "    'Sales':[16000,30000,56000]\n",
    "}\n",
    "df1 = pd.DataFrame(data1)\n",
    "print(\"\\nDataframe1: \\n\",df1)\n",
    "total_sales = df1.groupby('Category')['Sales'].sum()\n",
    "print(\"\\nCategory wise product sales: \\n\",total_sales)"
   ]
  },
  {
   "cell_type": "code",
   "execution_count": 10,
   "id": "b3643cf1",
   "metadata": {},
   "outputs": [
    {
     "name": "stdout",
     "output_type": "stream",
     "text": [
      "\n",
      "Row wise concatenation: \n",
      "       Name  Roll_No\n",
      "0   Laliyo        1\n",
      "1    Munna        2\n",
      "2  Singham        3\n",
      "\n",
      "Column wise concatenation: \n",
      "             Hobby  Marks\n",
      "0        Football     86\n",
      "1  Rifle Shooting     67\n",
      "2         Running     90\n"
     ]
    }
   ],
   "source": [
    "# Assignment 5: Merging DataFrames\n",
    "\n",
    "# # 1. Create two Pandas DataFrames with a common column. Merge the DataFrames using the common column\n",
    "# data1 = {\n",
    "#     'Name':['Laliyo','Munna','Singham'],\n",
    "#     'Roll_No':[1,2,3]\n",
    "# }\n",
    "# data2 = {\n",
    "#     'Name':['Laliyo','Munna','Singham'],\n",
    "#     'Hobby':['Football',\"Rifle Shooting\",\"Running\"]\n",
    "# }\n",
    "# index = [1,2,3]\n",
    "# df1 = pd.DataFrame(data1)\n",
    "# df2 = pd.DataFrame(data2)\n",
    "# print(\"Dataframe 1 : \\n\",df1)\n",
    "# print(\"\\nDataframe 2: \\n\",df2)\n",
    "\n",
    "# merged_dataframe  = pd.merge(df1,df2,on=\"Name\")\n",
    "# print(\"\\nMerged Data frame using 'Name' Colomn: \\n\\n\",merged_dataframe)\n",
    "\n",
    "\n",
    "# 2. Create two Pandas DataFrames with different columns. Concatenate the DataFrames along the rows and along the columns.\n",
    "data_i = {\n",
    "    'Name':['Laliyo','Munna','Singham'],\n",
    "    'Roll_No':[1,2,3]\n",
    "}\n",
    "data_ii = {\n",
    "    'Hobby':['Football',\"Rifle Shooting\",\"Running\"],\n",
    "    'Marks':[86,67,90]\n",
    "}\n",
    "df_i = pd.DataFrame(data_i)\n",
    "df_ii = pd.DataFrame(data_ii)\n",
    "\n",
    "concatenate_rows = pd.concat([df_i,df_ii],axis=0)\n",
    "concatenate_columns = pd.concat([df_i,df_ii],axis=1)\n",
    "\n",
    "print(\"\\nRow wise concatenation: \\n\",df_i)\n",
    "print(\"\\nColumn wise concatenation: \\n\",df_ii)\n",
    "\n"
   ]
  },
  {
   "cell_type": "code",
   "execution_count": 12,
   "id": "bc743453",
   "metadata": {},
   "outputs": [
    {
     "name": "stdout",
     "output_type": "stream",
     "text": [
      "Monthly Mean:\n",
      "                value\n",
      "2021-01-31  47.000000\n",
      "2021-02-28  46.214286\n",
      "2021-03-31  48.935484\n",
      "2021-04-30  62.333333\n",
      "2021-05-31  43.000000\n",
      "2021-06-30  45.133333\n",
      "2021-07-31  51.903226\n",
      "2021-08-31  42.548387\n",
      "2021-09-30  49.600000\n",
      "2021-10-31  46.000000\n",
      "2021-11-30  47.433333\n",
      "2021-12-31  44.612903\n",
      "Data with Rolling Mean:\n",
      "            value  rolling_mean_7d\n",
      "2021-01-01     88              NaN\n",
      "2021-01-02     53              NaN\n",
      "2021-01-03     30              NaN\n",
      "2021-01-04     63              NaN\n",
      "2021-01-05     61              NaN\n",
      "2021-01-06      9              NaN\n",
      "2021-01-07     81        55.000000\n",
      "2021-01-08     98        56.428571\n",
      "2021-01-09     34        53.714286\n",
      "2021-01-10      0        49.428571\n",
      "2021-01-11     14        42.428571\n",
      "2021-01-12     88        46.285714\n",
      "2021-01-13     82        56.714286\n",
      "2021-01-14     40        50.857143\n"
     ]
    },
    {
     "name": "stderr",
     "output_type": "stream",
     "text": [
      "C:\\Users\\Vraj\\AppData\\Local\\Temp\\ipykernel_15696\\4207352665.py:8: FutureWarning: 'M' is deprecated and will be removed in a future version, please use 'ME' instead.\n",
      "  monthly_mean = df.resample('M').mean()\n"
     ]
    }
   ],
   "source": [
    "# Assignment 6: Time Series Analysis\n",
    "\n",
    "# Create a Pandas DataFrame with a datetime index and one column filled with random integers. Resample the DataFrame to compute the monthly mean of the values.\n",
    "date_range = pd.date_range(start='2021-01-01', end='2021-12-31', freq='D')\n",
    "df = pd.DataFrame({\n",
    "    'value': np.random.randint(0, 100, size=len(date_range))\n",
    "}, index=date_range)\n",
    "monthly_mean = df.resample('M').mean()\n",
    "print(\"Monthly Mean:\")\n",
    "print(monthly_mean)\n",
    "\n",
    "# Create a Pandas DataFrame with a datetime index ranging from '2021-01-01' to '2021-12-31' and one column filled with random integers. Compute the rolling mean with a window of 7 days.\n",
    "df['rolling_mean_7d'] = df['value'].rolling(window=7).mean()\n",
    "print(\"Data with Rolling Mean:\")\n",
    "print(df.head(14))  # Show two weeks of data to see the rolling effect"
   ]
  },
  {
   "cell_type": "code",
   "execution_count": null,
   "id": "83ad2275",
   "metadata": {},
   "outputs": [],
   "source": []
  }
 ],
 "metadata": {
  "kernelspec": {
   "display_name": "base",
   "language": "python",
   "name": "python3"
  },
  "language_info": {
   "codemirror_mode": {
    "name": "ipython",
    "version": 3
   },
   "file_extension": ".py",
   "mimetype": "text/x-python",
   "name": "python",
   "nbconvert_exporter": "python",
   "pygments_lexer": "ipython3",
   "version": "3.13.5"
  }
 },
 "nbformat": 4,
 "nbformat_minor": 5
}
