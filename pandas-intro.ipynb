{
 "cells": [
  {
   "cell_type": "code",
   "execution_count": null,
   "id": "5ab4013f",
   "metadata": {},
   "outputs": [],
   "source": [
    "import pandas as pd\n",
    "\n",
    "data = [10, 20, 30, 40, 50]\n",
    "num = ['a', 'b', 'c', 'd', 'e']\n",
    "series = pd.Series(data, index=num)\n",
    "print(series)\n",
    "\n",
    "data_dict = {'Phy': 79, 'English': 89, 'Chemistry': 90}\n",
    "series_data = pd.Series(data_dict)\n",
    "print(series_data)"
   ]
  },
  {
   "cell_type": "code",
   "execution_count": null,
   "id": "01ba1eed",
   "metadata": {},
   "outputs": [],
   "source": [
    "import pandas as pd\n",
    "data = {\n",
    "    'Name': ['Spiderman', 'IronMan', 'Thor'],\n",
    "    'Weapon': ['Web shooter', 'NanoTech Suits', 'Hammer'],\n",
    "    'Strength': [7, 8, 10]\n",
    "}\n",
    "index = [1, 2, 3]\n",
    "df = pd.DataFrame(data, index=index)\n",
    "print(df)"
   ]
  },
  {
   "cell_type": "code",
   "execution_count": null,
   "id": "d3d631d1",
   "metadata": {},
   "outputs": [],
   "source": [
    "import pandas as pd\n",
    "data = [\n",
    "    {'Name': 'Vraj', 'Age': '18', 'Role': 'ML engineer'},\n",
    "    {'Name': 'Peter', 'Age': '20', 'Role': 'Software Manager'},\n",
    "    {'Name': 'Tony', 'Age': '21', 'Role': 'Data Visualizer'}\n",
    "]\n",
    "df = pd.DataFrame(data)\n",
    "print(df)"
   ]
  },
  {
   "cell_type": "code",
   "execution_count": null,
   "id": "870564db",
   "metadata": {},
   "outputs": [],
   "source": [
    "import pandas as pd\n",
    "df['Salary'] = ['4,50,000', '2,00,000', '70,000']\n",
    "df.drop('Age', axis=1, inplace=True)\n",
    "\n",
    "new_row = pd.DataFrame([{\n",
    "    'Name': 'Rohan',\n",
    "    'Role': 'Cloud Computing Expert',\n",
    "    'Salary': '1,75,000'\n",
    "}])\n",
    "df = pd.concat([df, new_row], ignore_index=True)\n",
    "print(df)\n"
   ]
  },
  {
   "cell_type": "code",
   "execution_count": null,
   "id": "845ac130",
   "metadata": {},
   "outputs": [],
   "source": [
    "df = pd.read_csv('marvel.csv')\n",
    "print(df.isnull().any(axis=1))\n",
    "df.fillna(0, inplace=True)\n",
    "\n",
    "df.set_index('Character_ID', inplace=True)\n",
    "df.rename(columns={'Power_Level': \"Strength\"}, inplace=True)\n",
    "print(df.head())"
   ]
  },
  {
   "cell_type": "code",
   "execution_count": null,
   "id": "eb7d30d4",
   "metadata": {},
   "outputs": [],
   "source": [
    "grouped = df.groupby(['Affiliation', 'Name'])['Strength'].sum()\n",
    "print(grouped)\n",
    "\n",
    "df['Power'] = df['Strength'].apply(lambda x: x + 101)\n",
    "grouped_all = df.groupby('Power')['Movies_Appeared'].agg(['mean', 'sum', 'count'])\n",
    "print(grouped_all)"
   ]
  },
  {
   "cell_type": "code",
   "execution_count": null,
   "id": "f98d45b6",
   "metadata": {},
   "outputs": [
    {
     "data": {
      "text/html": [
       "<div>\n",
       "<style scoped>\n",
       "    .dataframe tbody tr th:only-of-type {\n",
       "        vertical-align: middle;\n",
       "    }\n",
       "\n",
       "    .dataframe tbody tr th {\n",
       "        vertical-align: top;\n",
       "    }\n",
       "\n",
       "    .dataframe thead th {\n",
       "        text-align: right;\n",
       "    }\n",
       "</style>\n",
       "<table border=\"1\" class=\"dataframe\">\n",
       "  <thead>\n",
       "    <tr style=\"text-align: right;\">\n",
       "      <th></th>\n",
       "      <th>Name1</th>\n",
       "      <th>Age</th>\n",
       "      <th>Name2</th>\n",
       "    </tr>\n",
       "  </thead>\n",
       "  <tbody>\n",
       "    <tr>\n",
       "      <th>0</th>\n",
       "      <td>Rahul</td>\n",
       "      <td>19</td>\n",
       "      <td>Rahul</td>\n",
       "    </tr>\n",
       "    <tr>\n",
       "      <th>1</th>\n",
       "      <td>Tony</td>\n",
       "      <td>22</td>\n",
       "      <td>Tony</td>\n",
       "    </tr>\n",
       "    <tr>\n",
       "      <th>2</th>\n",
       "      <td>Steve</td>\n",
       "      <td>21</td>\n",
       "      <td>NaN</td>\n",
       "    </tr>\n",
       "  </tbody>\n",
       "</table>\n",
       "</div>"
      ],
      "text/plain": [
       "   Name1  Age  Name2\n",
       "0  Rahul   19  Rahul\n",
       "1   Tony   22   Tony\n",
       "2  Steve   21    NaN"
      ]
     },
     "execution_count": 15,
     "metadata": {},
     "output_type": "execute_result"
    }
   ],
   "source": [
    "import pandas as pd\n",
    "\n",
    "#Merging and joining Data frames\n",
    "\n",
    "df1 = pd.DataFrame({\n",
    "    'Name1':['Rahul','Tony','Steve'],\n",
    "    'Age':[19,22,21]\n",
    "})\n",
    "\n",
    "df2 = pd.DataFrame({\n",
    "    'Name2':['Rahul','Tony','Salman'],\n",
    "    'Age':[19,22,45]\n",
    "})\n",
    "\n",
    "pd.merge(df1,df2,on=\"Age\",how=\"inner\")\n",
    "\n",
    "pd.merge(df1,df2,on=\"Age\",how=\"outer\")\n"
   ]
  }
 ],
 "metadata": {
  "kernelspec": {
   "display_name": "base",
   "language": "python",
   "name": "python3"
  },
  "language_info": {
   "codemirror_mode": {
    "name": "ipython",
    "version": 3
   },
   "file_extension": ".py",
   "mimetype": "text/x-python",
   "name": "python",
   "nbconvert_exporter": "python",
   "pygments_lexer": "ipython3",
   "version": "3.13.5"
  }
 },
 "nbformat": 4,
 "nbformat_minor": 5
}
