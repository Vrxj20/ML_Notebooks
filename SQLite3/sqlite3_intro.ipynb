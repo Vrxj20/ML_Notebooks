{
 "cells": [
  {
   "cell_type": "code",
   "execution_count": 1,
   "id": "01caf15f",
   "metadata": {},
   "outputs": [],
   "source": [
    "import sqlite3"
   ]
  },
  {
   "cell_type": "code",
   "execution_count": 2,
   "id": "5a7e523d",
   "metadata": {},
   "outputs": [
    {
     "data": {
      "text/plain": [
       "<sqlite3.Connection at 0x18b5c7db5b0>"
      ]
     },
     "execution_count": 2,
     "metadata": {},
     "output_type": "execute_result"
    }
   ],
   "source": [
    "#Connection and making a database \n",
    "connection = sqlite3.connect('example.db')\n",
    "connection"
   ]
  },
  {
   "cell_type": "code",
   "execution_count": 3,
   "id": "65bd31bd",
   "metadata": {},
   "outputs": [
    {
     "data": {
      "text/plain": [
       "<sqlite3.Cursor at 0x18b5cb5aec0>"
      ]
     },
     "execution_count": 3,
     "metadata": {},
     "output_type": "execute_result"
    }
   ],
   "source": [
    "#Cursor\n",
    "cursor = connection.cursor()\n",
    "cursor"
   ]
  },
  {
   "cell_type": "code",
   "execution_count": 4,
   "id": "031ce736",
   "metadata": {},
   "outputs": [],
   "source": [
    "#Creating a table\n",
    "cursor.execute('''\n",
    "Create Table If Not Exists employees(\n",
    "    id Integer Primary key,\n",
    "    name Text Not Null,\n",
    "    age Integer,\n",
    "    department Text\n",
    "    )               \n",
    "''')\n",
    "\n",
    "#Commit\n",
    "connection.commit()\n"
   ]
  },
  {
   "cell_type": "code",
   "execution_count": 6,
   "id": "92283c7d",
   "metadata": {},
   "outputs": [
    {
     "name": "stdout",
     "output_type": "stream",
     "text": [
      "(1, 'Vraj', 21, 'AI/ML')\n",
      "(2, 'Ketan', 24, 'Cybersecurity')\n",
      "(3, 'Rahul', 34, 'Data Analyst')\n",
      "(4, 'Vraj', 21, 'AI/ML')\n",
      "(5, 'Ketan', 24, 'Cybersecurity')\n",
      "(6, 'Rahul', 34, 'Data Analyst')\n"
     ]
    }
   ],
   "source": [
    "#Inserting values\n",
    "cursor.execute('''\n",
    "Insert into employees(name,age,department)\n",
    "VALUES ('Vraj',21,'AI/ML')                  \n",
    "''')\n",
    "\n",
    "cursor.execute('''\n",
    "Insert into employees(name,age,department)\n",
    "VALUES ('Ketan',24,'Cybersecurity')                  \n",
    "''')\n",
    "\n",
    "cursor.execute('''\n",
    "Insert into employees(name,age,department)\n",
    "VALUES ('Rahul',34,'Data Analyst')                  \n",
    "''')\n",
    "\n",
    "connection.commit()\n",
    "\n",
    "#Selecting by fetchall\n",
    "\n",
    "cursor.execute('select * from employees')\n",
    "rows = cursor.fetchall()\n",
    "for row in rows:\n",
    "    print(row)"
   ]
  },
  {
   "cell_type": "code",
   "execution_count": 11,
   "id": "a39a865d",
   "metadata": {},
   "outputs": [
    {
     "name": "stdout",
     "output_type": "stream",
     "text": [
      "(1, 'Vraj', 21, 'AI/ML')\n",
      "(2, 'Ketan', 24, 'Cybersecurity')\n",
      "(3, 'Rahul', 27, 'Data Analyst')\n",
      "(4, 'Vraj', 21, 'AI/ML')\n",
      "(5, 'Ketan', 24, 'Cybersecurity')\n",
      "(6, 'Rahul', 27, 'Data Analyst')\n"
     ]
    }
   ],
   "source": [
    "#Updating data\n",
    "\n",
    "cursor.execute('''\n",
    "Update employees\n",
    "Set age='27' where name='Rahul'\n",
    "''')\n",
    "\n",
    "cursor.execute('select * from employees')\n",
    "rows = cursor.fetchall()\n",
    "for row in rows:\n",
    "    print(row)\n",
    "connection.commit()\n",
    "\n",
    "\n",
    "\n"
   ]
  },
  {
   "cell_type": "code",
   "execution_count": 12,
   "id": "a4145fbe",
   "metadata": {},
   "outputs": [
    {
     "name": "stdout",
     "output_type": "stream",
     "text": [
      "(1, 'Vraj', 21, 'AI/ML')\n",
      "(2, 'Ketan', 24, 'Cybersecurity')\n",
      "(4, 'Vraj', 21, 'AI/ML')\n",
      "(5, 'Ketan', 24, 'Cybersecurity')\n"
     ]
    }
   ],
   "source": [
    "#Deleting data\n",
    "\n",
    "cursor.execute('''\n",
    "Delete from employees\n",
    "Where name='Rahul'\n",
    "''')\n",
    "\n",
    "cursor.execute('select * from employees')\n",
    "rows = cursor.fetchall()\n",
    "for row in rows:\n",
    "    print(row)\n",
    "\n",
    "connection.commit()\n",
    "\n"
   ]
  },
  {
   "cell_type": "code",
   "execution_count": null,
   "id": "379951c6",
   "metadata": {},
   "outputs": [],
   "source": []
  },
  {
   "cell_type": "code",
   "execution_count": null,
   "id": "e05a1741",
   "metadata": {},
   "outputs": [],
   "source": []
  }
 ],
 "metadata": {
  "kernelspec": {
   "display_name": "base",
   "language": "python",
   "name": "python3"
  },
  "language_info": {
   "codemirror_mode": {
    "name": "ipython",
    "version": 3
   },
   "file_extension": ".py",
   "mimetype": "text/x-python",
   "name": "python",
   "nbconvert_exporter": "python",
   "pygments_lexer": "ipython3",
   "version": "3.13.5"
  }
 },
 "nbformat": 4,
 "nbformat_minor": 5
}
