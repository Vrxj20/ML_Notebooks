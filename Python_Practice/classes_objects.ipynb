{
 "cells": [
  {
   "cell_type": "markdown",
   "id": "4856affd",
   "metadata": {},
   "source": [
    "###Classes and Objects"
   ]
  },
  {
   "cell_type": "code",
   "execution_count": 6,
   "id": "10e1c1d4",
   "metadata": {},
   "outputs": [
    {
     "name": "stdout",
     "output_type": "stream",
     "text": [
      "Red\n",
      "R8\n",
      "2015\n"
     ]
    }
   ],
   "source": [
    "#Assignment 1: Basic Class and Object Creation\n",
    "# Create a class named `Car` with attributes `color`, `model`, and `year`. Create an object of the class and print its attributes.\n",
    "\n",
    "class Car:\n",
    "    def __init__(self,color,model,year):\n",
    "        self.color = color\n",
    "        self.model = model\n",
    "        self.year = year \n",
    "\n",
    "user = Car(\"Red\",\"R8\",\"2015\")\n",
    "print(user.color)\n",
    "print(user.model)\n",
    "print(user.year)"
   ]
  },
  {
   "cell_type": "code",
   "execution_count": 5,
   "id": "f299cb57",
   "metadata": {},
   "outputs": [
    {
     "name": "stdout",
     "output_type": "stream",
     "text": [
      "Aventedor's engine has started\n"
     ]
    }
   ],
   "source": [
    "#Assignment 2: Methods in Class\n",
    "# Add a method named `start_engine` to the `Car` class that prints a message when the engine starts. Create an object of the class and call the method.\n",
    "\n",
    "class Car:\n",
    "    def __init__(self,color,model,year):\n",
    "        self.color = color\n",
    "        self.model = model\n",
    "        self.year = year \n",
    "\n",
    "    def start_engine(self):\n",
    "        print(f\"{self.model}'s engine has started\")\n",
    "\n",
    "user = Car(\"Blue\",\"Aventedor\",\"2000\")\n",
    "user.start_engine()"
   ]
  },
  {
   "cell_type": "code",
   "execution_count": 4,
   "id": "afece6cf",
   "metadata": {},
   "outputs": [
    {
     "name": "stdout",
     "output_type": "stream",
     "text": [
      "Vraj is 18 years old.\n"
     ]
    }
   ],
   "source": [
    "#Assignment 3: Class with Constructor\n",
    "#Create a class named `Student` with attributes `name` and `age`. Use a constructor to initialize these attributes. Create an object of the class and print its attributes.\n",
    "\n",
    "class Student:\n",
    "    def __init__(self,name,age):\n",
    "        self.name = name\n",
    "        self.age = age\n",
    "    \n",
    "    def data_student(self):\n",
    "        print(f\"{self.name} is {self.age} years old.\")\n",
    "user = Student(\"Vraj\",18)\n",
    "user.data_student()"
   ]
  },
  {
   "cell_type": "code",
   "execution_count": null,
   "id": "cccd43b3",
   "metadata": {},
   "outputs": [
    {
     "name": "stdout",
     "output_type": "stream",
     "text": [
      "Deposited: 2500\n",
      "Current Balance: 17500\n",
      "Insufficient Funds or invalid amount\n",
      "Withdrawn: 1000\n",
      "Current Balance: 16500\n"
     ]
    }
   ],
   "source": [
    "#Assignment 4: Class with Private Attributes (Encapsulation)\n",
    "# Create a class named `BankAccount` with private attributes `account_number` and `balance`. Add methods to deposit and withdraw money, and to check the balance. Create an object of the class and perform some operations.\n",
    "\n",
    "from matplotlib.widgets import EllipseSelector\n",
    "\n",
    "\n",
    "class BankAccount:\n",
    "    def __init__(self,account_number,balance):\n",
    "        self.__account_number = account_number\n",
    "        self.__balance = balance\n",
    "\n",
    "    def deposit(self,amount):\n",
    "        if amount > 0:\n",
    "            self.__balance += amount \n",
    "            print(f\"Deposited: {amount}\")\n",
    "        else:\n",
    "            print(\"Enter valid amount to deposit.\")\n",
    "\n",
    "    def withdraw(self,amount):\n",
    "        if 0 < amount < self.__balance:\n",
    "            self.__balance -= amount \n",
    "            print(f\"Withdrawn: {amount}\")\n",
    "        else:\n",
    "            print(f\"Insufficient Funds or invalid amount\")\n",
    "\n",
    "    def check_balance(self):\n",
    "        print(f\"Current Balance: {self.__balance}\")\n",
    "\n",
    "account = BankAccount(35629870114,15000)\n",
    "\n",
    "account.deposit(2500)\n",
    "account.check_balance()\n",
    "account.withdraw(1000000)\n",
    "account.withdraw(1000)\n",
    "account.check_balance()\n",
    "\n",
    "\n"
   ]
  },
  {
   "cell_type": "code",
   "execution_count": 16,
   "id": "22149d84",
   "metadata": {},
   "outputs": [
    {
     "name": "stdout",
     "output_type": "stream",
     "text": [
      "Name:Vraj\n",
      "Age:18\n",
      "Employee_id:34344\n"
     ]
    }
   ],
   "source": [
    "#Assignment 5: Class Inheritance\n",
    "#Create a base class named `Person` with attributes `name` and `age`. Create a derived class named `Employee` that inherits from `Person` and adds an attribute `employee_id`. Create an object of the derived class and print its attributes.\n",
    "\n",
    "class Person:\n",
    "    def __init__(self,name,age):\n",
    "        self.name = name\n",
    "        self.age = age\n",
    "\n",
    "class Employee(Person):\n",
    "    def __init__(self, name, age,employee_id):\n",
    "        super().__init__(name, age)  \n",
    "        self.employee_id = employee_id\n",
    "\n",
    "info = Employee(\"Vraj\",18,34344)\n",
    "print(f\"Name:{info.name}\\nAge:{info.age}\\nEmployee_id:{info.employee_id}\")\n",
    "\n"
   ]
  },
  {
   "cell_type": "markdown",
   "id": "278aa847",
   "metadata": {},
   "source": [
    "### Assignment 6: Method Overriding\n",
    "\n",
    "In the `Employee` class, override the `__str__` method to return a string representation of the object. Create an object of the class and print it.\n",
    "\n",
    "### Assignment 7: Class Composition\n",
    "\n",
    "Create a class named `Address` with attributes `street`, `city`, and `zipcode`. Create a class named `Person` that has an `Address` object as an attribute. Create an object of the `Person` class and print its address.\n",
    "\n",
    "### Assignment 8: Class with Class Variables\n",
    "\n",
    "Create a class named `Counter` with a class variable `count`. Each time an object is created, increment the count. Add a method to get the current count. Create multiple objects and print the count.\n",
    "\n",
    "### Assignment 9: Static Methods\n",
    "\n",
    "Create a class named `MathOperations` with a static method to calculate the square root of a number. Call the static method without creating an object.\n",
    "\n",
    "### Assignment 10: Class with Properties\n",
    "\n",
    "Create a class named `Rectangle` with private attributes `length` and `width`. Use properties to get and set these attributes. Create an object of the class and test the properties.\n",
    "\n",
    "### Assignment 11: Abstract Base Class\n",
    "\n",
    "Create an abstract base class named `Shape` with an abstract method `area`. Create derived classes `Circle` and `Square` that implement the `area` method. Create objects of the derived classes and call the `area` method.\n",
    "\n",
    "### Assignment 12: Operator Overloading\n",
    "\n",
    "Create a class named `Vector` with attributes `x` and `y`. Overload the `+` operator to add two `Vector` objects. Create objects of the class and test the operator overloading.\n",
    "\n",
    "### Assignment 13: Class with Custom Exception\n",
    "\n",
    "Create a custom exception named `InsufficientBalanceError`. In the `BankAccount` class, raise this exception when a withdrawal amount is greater than the balance. Handle the exception and print an appropriate message.\n",
    "\n",
    "### Assignment 14: Class with Context Manager\n",
    "\n",
    "Create a class named `FileManager` that implements the context manager protocol to open and close a file. Use this class to read the contents of a file.\n",
    "\n",
    "### Assignment 15: Chaining Methods\n",
    "\n",
    "Create a class named `Calculator` with methods to add, subtract, multiply, and divide. Each method should return the object itself to allow method chaining. Create an object and chain multiple method calls.\n",
    "\n",
    "this are the problems my mentor gave me should i do them in ipynb files or py files whats best\n",
    "\n"
   ]
  }
 ],
 "metadata": {
  "kernelspec": {
   "display_name": "base",
   "language": "python",
   "name": "python3"
  },
  "language_info": {
   "codemirror_mode": {
    "name": "ipython",
    "version": 3
   },
   "file_extension": ".py",
   "mimetype": "text/x-python",
   "name": "python",
   "nbconvert_exporter": "python",
   "pygments_lexer": "ipython3",
   "version": "3.13.5"
  }
 },
 "nbformat": 4,
 "nbformat_minor": 5
}
